{
 "cells": [
  {
   "attachments": {},
   "cell_type": "markdown",
   "metadata": {},
   "source": [
    "# 線グラフを描くプログラムのテンプレート"
   ]
  },
  {
   "attachments": {},
   "cell_type": "markdown",
   "metadata": {},
   "source": [
    "## 使用モジュールリスト"
   ]
  },
  {
   "cell_type": "code",
   "execution_count": 9,
   "metadata": {},
   "outputs": [],
   "source": [
    "import numpy as np\n",
    "# from scipy import ??? # scipyを使ってしたい処理などがあれば読み込む\n",
    "from scipy import stats as st # 統計処理\n",
    "import matplotlib as mpl\n",
    "import matplotlib.pyplot as plt # グラフ描画\n",
    "import matplotlib.cm as cm  # グラフのカラーマップ"
   ]
  },
  {
   "attachments": {},
   "cell_type": "markdown",
   "metadata": {},
   "source": [
    "## rmParamsの設定"
   ]
  },
  {
   "cell_type": "code",
   "execution_count": 10,
   "metadata": {},
   "outputs": [],
   "source": [
    "\n",
    "rcParams_config = {\n",
    "    # LINES\n",
    "    \"lines.linewidth\" : 3,              # 線の太さ\n",
    "    \"lines.linestyle\" : \"-\",            # 線種\n",
    "    \"lines.dash_joinstyle\" : \"miter\",   # 破線の結合部分\n",
    "    \"lines.dash_capstyle\" : \"butt\",     # 破線の角\n",
    "    \"lines.solid_joinstyle\" : \"miter\",  # 線の結合部分\n",
    "    \"lines.solid_capstyle\" : \"butt\",    # 線の角\n",
    "    \"lines.antialiased\" : True,         # 線をなめらかにするか\n",
    "    # FONT\n",
    "    \"font.family\" : \"arial\",            # 使用するフォント名\n",
    "    \"font.style\" : \"normal\",            # 字体\n",
    "    \"font.variant\" : \"normal\",          # 大文字小文字の大きさ\n",
    "    \"font.weight\" : \"normal\",           # フォントの太さ\n",
    "    \"font.stretch\" : \"normal\",          # フォントの拡張\n",
    "    \"font.size\" : 14.0,                 # フォントサイズ\n",
    "    \"font.serif\" : \"Times New Roman\",   # 使用するフォント\n",
    "    # LaTeX\n",
    "    \"text.usetex\" : False,              # すべてのテキストにlatexを使うかどうか\n",
    "    \"mathtext.fontset\" : \"cm\",          # 数式Tex表記で使用するフォント設定\n",
    "    \"mathtext.bf\" : \"serif:bold\",\n",
    "    \"mathtext.cal\" : \"serif\", \n",
    "    \"mathtext.it\" : \"serif:italic\", \n",
    "    \"mathtext.rm\" : \"serif\", \n",
    "    # AXES\n",
    "    \"axes.facecolor\" : \"white\",             # Axesの背景の色\n",
    "    \"axes.edgecolor\" : \"black\",             # Axesの枠の色\n",
    "    \"axes.linewidth\" : 1.0,                 # Axesの枠線の太さ\n",
    "    \"axes.grid\" : False,                    # Axesにグリッド線を表示するか\n",
    "    \"axes.grid.axis\" : \"both\",              # Axesのどの軸にグリッド線を表示するか\n",
    "    \"axes.grid.which\" : \"major\",            # Axesのどの目盛りのグリッド線を表示するか\n",
    "    \"axes.titlelocation\" : \"center\",        # Axesのタイトルの位置\n",
    "    \"axes.titlesize\" : \"large\",             # Axesのタイトルのサイズ\n",
    "    \"axes.titleweight\" : \"normal\",          # Axesのタイトルの太さ\n",
    "    \"axes.titlecolor\" : \"auto\",             # Axesのタイトルの色\n",
    "    \"axes.titlepad\" : 6.0,                  # AxesのタイトルとAxesの間隔\n",
    "    \"axes.labelsize\" : 30,                  # Axesのx,y軸ラベルのフォントサイズ\n",
    "    \"axes.labelpad\" : 1.0,                  # Axesのx,y軸ラベルと軸の間隔\n",
    "    \"axes.labelweight\" : \"normal\",          # Axesのx,y軸ラベルの太さ\n",
    "    \"axes.labelcolor\" : \"black\",            # Axesのx,y軸ラベルの色\n",
    "    \"axes.formatter.use_mathtext\" : True,   # 指数表記をするかどうか\n",
    "    \"axes.formatter.min_exponent\" : 1,      # 指数表記にする最小指数の絶対値\n",
    "    \"axes.prop_cycle\" : \"cycler('color', ['#051e3e', '#251e3e', '#451e3e', '#651e3e', '#851e3e'])\",  # 色のサイクル\n",
    "    \"axes.xmargin\" : .05,                   # Axesのx方向の余白\n",
    "    \"axes.ymargin\" : .05,                   # Axesのy方向の余白\n",
    "    \"axes.zmargin\" : .05,                   # Axesのz方向の余白\n",
    "    # AXIS\n",
    "    \"xaxis.labellocation\" : \"center\",       # x軸のラベルの位置\n",
    "    \"yaxis.labellocation\" : \"center\",       # y軸のラベルの位置\n",
    "    # TICKS\n",
    "    \"xtick.top\" : True,         # Ticksを上側に表示するか\n",
    "    \"xtick.bottom\" : True,      # Ticksを上側に表示するか\n",
    "    \"xtick.major.size\" : 8.0,   # x軸のmajor Ticksの長さ\n",
    "    \"xtick.minor.size\" : 4.0,   # x軸のminor Ticksの長さ\n",
    "    \"xtick.major.width\" : 1.0,  # x軸のmajor Ticksの太さ\n",
    "    \"xtick.minor.width\" : 1.0,  # x軸のminor Ticksの太さ\n",
    "    \"xtick.major.pad\" : 6,      # x軸のmajor Ticksとそのラベルの間隔\n",
    "    \"xtick.minor.pad\" : 6,      # x軸のminor Ticksとそのラベルの間隔\n",
    "    \"xtick.labelsize\" : 16,     # x軸のTicksのラベルサイズ\n",
    "    \"xtick.direction\" : \"in\",   # x軸のTicksをAxesの内側に表示\n",
    "    \"ytick.left\" : True,        # Ticksを上側に表示するか\n",
    "    \"ytick.right\" : True,       # Ticksを上側に表示するか\n",
    "    \"ytick.major.size\" : 8.0,   # y軸のmajor Ticksの長さ\n",
    "    \"ytick.minor.size\" : 4.0,   # y軸のminor Ticksの長さ\n",
    "    \"ytick.major.width\" : 1.0,  # y軸のmajor Ticksの太さ\n",
    "    \"ytick.minor.width\" : 1.0,  # y軸のminor Ticksの太さ\n",
    "    \"ytick.major.pad\" : 6,      # y軸のmajor Ticksとそのラベルの間隔\n",
    "    \"ytick.minor.pad\" : 6,      # y軸のminor Ticksとそのラベルの間隔\n",
    "    \"ytick.labelsize\" : 16,     # y軸のTicksのラベルサイズ\n",
    "    \"ytick.direction\" : \"in\",   # y軸のTicksをAxesの内側に表示\n",
    "    # GRIDS\n",
    "    \"grid.color\" : \"b0b0b0\",    # グリッドの色\n",
    "    \"grid.linestyle\" : \"--\",    # グリッドの線種\n",
    "    \"grid.linewidth\" : 0.8,     # グリッドの線の太さ\n",
    "    \"grid.alpha\" : 1.0,         # グリッドの線の透過率\n",
    "    # LEGEND\n",
    "    \"legend.loc\" : \"best\",      # 凡例の位置\n",
    "    \"legend.frameon\" : False,   # 凡例を枠で囲うか\n",
    "    \"legend.borderaxespad\" : 0, # axesと凡例の枠の間隔\n",
    "    # FIGURE\n",
    "    \"figure.figsize\" : \"5, 3\",      # figureのサイズ\n",
    "    \"figure.subplot.left\" : 0.14,   # subplotの左側の余白\n",
    "    \"figure.subplot.right\" : 0.90,  # subplotの左側の余白\n",
    "    \"figure.subplot.bottom\" : 0.14, # subplotの左側の余白\n",
    "    \"figure.subplot.top\" : 0.90,    # subplotの左側の余白\n",
    "    \"figure.autolayout\" : False,    # figureの配置を自動で調整するか\n",
    "    # IMAGES\n",
    "    \"image.aspect\" : \"equal\",   # カラーマップのアスペクト比\n",
    "    \"image.cmap\" : \"magma\",     # カラーマップの配色\n",
    "    # SCATTER PLOTS\n",
    "    \"scatter.marker\" : \"s\"  # マーカーサイズ\n",
    "    # その他のパラメータは，.mpistyleファイルを参照\n",
    "}\n",
    "plt.rcParams.update(rcParams_config)"
   ]
  },
  {
   "attachments": {},
   "cell_type": "markdown",
   "metadata": {},
   "source": [
    "## 1.？？？のグラフ"
   ]
  },
  {
   "attachments": {},
   "cell_type": "markdown",
   "metadata": {},
   "source": [
    "### データの読み込み"
   ]
  },
  {
   "cell_type": "code",
   "execution_count": 11,
   "metadata": {},
   "outputs": [],
   "source": [
    "# 仮のデータ\n",
    "data1 = np.array([1, 2, 3, 4, 5])\n",
    "data2 = np.array([0.01, 3, 2, 4, 10])\n",
    "\n",
    "# データの読み込み\n",
    "# data1, data2 = np.loadtxt(fname = '????', comments = '!', unpack = True)\n",
    "\n",
    "# データの名前\n",
    "data1_name = 'data1'\n",
    "data2_name = 'data2'"
   ]
  },
  {
   "attachments": {},
   "cell_type": "markdown",
   "metadata": {},
   "source": [
    "### グラフを描画"
   ]
  },
  {
   "cell_type": "code",
   "execution_count": 12,
   "metadata": {},
   "outputs": [
    {
     "data": {
      "text/plain": [
       "<matplotlib.legend.Legend at 0x7f617320b280>"
      ]
     },
     "execution_count": 12,
     "metadata": {},
     "output_type": "execute_result"
    },
    {
     "data": {
      "image/png": "[encoded data removed]",
      "text/plain": [
       "<Figure size 550x500 with 1 Axes>"
      ]
     },
     "metadata": {},
     "output_type": "display_data"
    }
   ],
   "source": [
    "# 図の詳細設定\n",
    "fig, ax = plt.subplots(1, 1, figsize = (5.5, 5))  # デフォルトサイズはfigsize = (5.5, 5)\n",
    "ax.set_xlabel(r'$data1$')  # x軸ラベル\n",
    "ax.set_ylabel(r'$data2$')  # y軸ラベル\n",
    "# ax.xaxis.label.set_size(30)   # x軸ラベルのフォントサイズ\n",
    "# ax.yaxis.label.set_size(30)   # y軸ラベルのフォントサイズ\n",
    "# ax.tick_params(labelsize = 16)    # 目盛りのフォントサイズ, デフォルトは16\n",
    "# ax.set_xscale('log')    # x軸に対数プロットを適用\n",
    "# ax.set_yscale('log')    # y軸に対数プロットを適用\n",
    "# ax.set_xlim(0, 6)   # x軸のプロット範囲\n",
    "# ax.set_ylim(0, 6)   # y軸のプロット範囲\n",
    "# ax.set_xticks([0, 1, 2, 3, 4, 5, 6])  # x軸の目盛りを打つ場所を手動で設定\n",
    "# ax.set_yticks([0, 1, 2, 3, 4, 5, 6])  # y軸の目盛りを打つ場所を手動で設定\n",
    "# ax.set_xticklabels([\"0\", \"1\", \"2\", \"3\", \"4\", \"5\", \"6\"])   # x軸の目盛りの表記を手動で設定\n",
    "# ax.set_yticklabels([\"0\", \"1\", \"2\", \"3\", \"4\", \"5\", \"6\"])   # y軸の目盛りの表記を手動で設定\n",
    "\n",
    "# データをプロット\n",
    "ax.plot(data1, data2, color = 'red', label = data2_name)\n",
    "\n",
    "# 凡例を追加\n",
    "plt.legend(bbox_to_anchor = (1.05, 1.0), loc = 'upper left')    # 凡例\n",
    "\n",
    "# グラフを保存\n",
    "# fig.savefig('???.svg', bbox_inches = 'tight')"
   ]
  },
  {
   "cell_type": "code",
   "execution_count": null,
   "metadata": {},
   "outputs": [],
   "source": []
  }
 ],
 "metadata": {
  "kernelspec": {
   "display_name": "base",
   "language": "python",
   "name": "python3"
  },
  "language_info": {
   "codemirror_mode": {
    "name": "ipython",
    "version": 3
   },
   "file_extension": ".py",
   "mimetype": "text/x-python",
   "name": "python",
   "nbconvert_exporter": "python",
   "pygments_lexer": "ipython3",
   "version": "3.9.13 (main, Aug 25 2022, 23:26:10) \n[GCC 11.2.0]"
  },
  "orig_nbformat": 4,
  "vscode": {
   "interpreter": {
    "hash": "359f24a9ef4d34d046c5442a240ac5cfc1e9dc848576e551c8feed79c29f3bc0"
   }
  }
 },
 "nbformat": 4,
 "nbformat_minor": 2
}
