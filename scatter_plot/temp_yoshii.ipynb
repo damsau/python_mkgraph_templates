{
 "cells": [
  {
   "cell_type": "code",
   "execution_count": 3,
   "metadata": {},
   "outputs": [],
   "source": [
    "import numpy as np\n",
    "import matplotlib.pyplot as plt\n",
    "import matplotlib.ticker as ptick ##これが必要！\n",
    "import matplotlib.pyplot as plt\n",
    "from matplotlib.ticker import ScalarFormatter\n",
    "import math\n",
    "import seaborn as sns\n",
    "import pandas as pd\n",
    "from pandas import Series, DataFrame\n",
    "import numpy as np\n",
    "import matplotlib.pyplot as plt\n",
    "from matplotlib.colors import ListedColormap\n",
    "csfont = {'fontname':'Comic Sans MS'}\n",
    "hfont = {'fontname':'Helvetica'}\n",
    "plt.rcParams['font.family'] = 'arial'       # 使用するフォント\n",
    "plt.rcParams['font.serif'] = 'Times New Roman'\n",
    "plt.rcParams['font.size'] = 14              # 基本となるフォントの大きさ\n",
    "plt.rcParams['mathtext.cal'] = 'serif'      # TeX表記に関するフォント設定\n",
    "plt.rcParams['mathtext.rm'] = 'serif'       # TeX表記に関するフォント設定\n",
    "plt.rcParams['mathtext.it'] = 'serif:italic'# TeX表記に関するフォント設定\n",
    "plt.rcParams['mathtext.bf'] = 'serif:bold'  # TeX表記に関するフォント設定\n",
    "plt.rcParams['mathtext.fontset'] = 'cm'     # TeX表記に関するフォント設定\n",
    "plt.rcParams['xtick.direction'] = 'in'            #x軸の目盛線\n",
    "plt.rcParams['ytick.direction'] = 'in'            #y軸の目盛線\n",
    "plt.rcParams['figure.subplot.left'] = 0.14  # 余白\n",
    "plt.rcParams['figure.subplot.bottom'] = 0.14# 余白\n",
    "plt.rcParams['figure.subplot.right'] =0.90  # 余白\n",
    "plt.rcParams['figure.subplot.top'] = 0.91   # 余白\n",
    "plt.rcParams['axes.linewidth'] = 1.0        # 軸の線幅edge linewidth。囲みの太さ\n",
    "plt.rcParams['xtick.top'] = True            # 上部に目盛り線を描くかどうか\n",
    "plt.rcParams['xtick.bottom'] = True         # 下部に目盛り線を描くかどうか\n",
    "plt.rcParams['ytick.left'] = True        # 左部に目盛り線を描くかどうか\n",
    "plt.rcParams['ytick.right'] = True          # 右部に目盛り線を描くかどうか\n",
    "plt.rcParams['xtick.major.size'] = 8.0      # x軸主目盛り線の長さ\n",
    "plt.rcParams['ytick.major.size'] = 8.0      # y軸主目盛り線の長さ\n",
    "plt.rcParams['xtick.major.width'] = 1.0     # x軸主目盛り線の線幅\n",
    "plt.rcParams['ytick.major.width'] = 1.0     # y軸主目盛り線の線幅\n",
    "plt.rcParams['xtick.minor.size'] = 4.0      # x軸副目盛り線の長さ\n",
    "plt.rcParams['ytick.minor.size'] = 4.0      # y軸副目盛り線の長さ\n",
    "plt.rcParams['xtick.minor.width'] = 1.0     # x軸副目盛り線の線幅\n",
    "plt.rcParams['ytick.minor.width'] = 1.0     # y軸副目盛り線の線幅\n",
    "plt.rcParams['legend.loc'] = 'best'         # 凡例の位置、'best'でいい感じのところ\n",
    "plt.rcParams['legend.frameon'] = False      # 凡例を囲うかどうか、Trueで囲う、Falseで囲わない"
   ]
  },
  {
   "cell_type": "code",
   "execution_count": 4,
   "metadata": {},
   "outputs": [
    {
     "data": {
      "image/png": "[encoded data removed]",
      "text/plain": [
       "<Figure size 396x360 with 1 Axes>"
      ]
     },
     "metadata": {
      "needs_background": "light"
     },
     "output_type": "display_data"
    }
   ],
   "source": [
    "import numpy as np\n",
    "import matplotlib.pyplot as plt\n",
    "from matplotlib.colors import ListedColormap\n",
    "#SSArray = np.loadtxt('./SS_10^6_plot.csv', comments='!', unpack=True, delimiter=',')\n",
    "fig = plt.figure(figsize=(5.5, 5))\n",
    "value_00 = [0.0015, 0.0005, 0.00015, 0.000015]\n",
    "value_SS = [0.64-0.517, 0.64-0.55, 0.64-0.575, 0.028]\n",
    "ax = fig.add_subplot(111)\n",
    "cbar  = plt.cm.get_cmap('binary')\n",
    "#cbar = plt.colorbar(heatmap)\n",
    "#ax.plot(w,z, color='black',  linestyle='solid', label='$1$')\n",
    "#ax.plot(e,f, color='magenta',  linestyle='dashdot', label='$1/2$')\n",
    "e = np.linspace(0.000, 0.005 ,1000)\n",
    "f = 0.86*e**(0.3)\n",
    "ax.plot(e,f, color='red',  linestyle='dashdot', label='$ν,a_0 =(1/3,1.1)$')\n",
    "ax.plot(value_00, value_SS, color='blue', marker='s', ms=10,  linestyle='none', label='$\\phi_c$')\n",
    "plt.tick_params(labelsize=24)\n",
    "ax.set_xlim(0.000005, 0.005)\n",
    "ax.set_ylim(0.005, 0.5)\n",
    "plt.tick_params(labelsize=24)\n",
    "plt.yscale('log')\n",
    "plt.xscale('log') #logscale\n",
    "#plt.colorbar(sc)\n",
    "#sc.set_label('$\\phi$', rotation=0)\n",
    "#ax.set_title('$\\phi$')\n",
    "#ax.xaxis.set_ticks_position('top')\n",
    "ax.set_xlabel('$a$', fontsize=32)\n",
    "ax.set_ylabel('$\\epsilon   (a)$', fontsize=32)\n",
    "plt.legend(bbox_to_anchor=(1.05, 1), loc='upper left', borderaxespad=0, fontsize=14)\n",
    "plt.tick_params(labelsize=18)\n",
    "fig.savefig('2022_0529_#3000_a_phi_wet*_log_All_2.eps', bbox_inches='tight',transparent=True)\n",
    "plt.show()"
   ]
  },
  {
   "cell_type": "code",
   "execution_count": null,
   "metadata": {},
   "outputs": [],
   "source": []
  }
 ],
 "metadata": {
  "kernelspec": {
   "display_name": "Python 3.9.7 ('base')",
   "language": "python",
   "name": "python3"
  },
  "language_info": {
   "codemirror_mode": {
    "name": "ipython",
    "version": 3
   },
   "file_extension": ".py",
   "mimetype": "text/x-python",
   "name": "python",
   "nbconvert_exporter": "python",
   "pygments_lexer": "ipython3",
   "version": "3.9.7"
  },
  "orig_nbformat": 4,
  "vscode": {
   "interpreter": {
    "hash": "359f24a9ef4d34d046c5442a240ac5cfc1e9dc848576e551c8feed79c29f3bc0"
   }
  }
 },
 "nbformat": 4,
 "nbformat_minor": 2
}
